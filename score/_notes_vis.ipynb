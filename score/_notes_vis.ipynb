{
 "cells": [
  {
   "cell_type": "code",
   "execution_count": 38,
   "metadata": {},
   "outputs": [
    {
     "name": "stdout",
     "output_type": "stream",
     "text": [
      "Note describe:\n",
      "\tpos: (x, y) = (1, 97.25)\n",
      "\twidth: 5\n",
      "\tnote type: FLICK \n",
      "\thow judge: OFF\n"
     ]
    },
    {
     "ename": "AssertionError",
     "evalue": "Note describe:\n\tpos: (x, y) = (1, 97.25)\n\twidth: 5\n\tnote type: FLICK \n\thow judge: OFF",
     "output_type": "error",
     "traceback": [
      "\u001b[0;31m---------------------------------------------------------------------------\u001b[0m",
      "\u001b[0;31mAssertionError\u001b[0m                            Traceback (most recent call last)",
      "Cell \u001b[0;32mIn[38], line 21\u001b[0m\n\u001b[1;32m     17\u001b[0m sections \u001b[39m=\u001b[39m _get_section(\u001b[39m\"\u001b[39m\u001b[39m./data/m155.json\u001b[39m\u001b[39m\"\u001b[39m)\n\u001b[1;32m     18\u001b[0m \u001b[39m# for note in sections[257]:\u001b[39;00m\n\u001b[1;32m     19\u001b[0m \u001b[39m#     print(note)\u001b[39;00m\n\u001b[0;32m---> 21\u001b[0m \u001b[39massert\u001b[39;00m (sections[\u001b[39m257\u001b[39m][\u001b[39m0\u001b[39m]\u001b[39m.\u001b[39mtype ) \u001b[39m==\u001b[39m NotesType\u001b[39m.\u001b[39mHOLD, \u001b[39mf\u001b[39m\u001b[39m\"\u001b[39m\u001b[39m{\u001b[39;00msections[\u001b[39m257\u001b[39m][\u001b[39m0\u001b[39m]\u001b[39m}\u001b[39;00m\u001b[39m\"\u001b[39m\n\u001b[1;32m     22\u001b[0m dir_path \u001b[39m=\u001b[39m \u001b[39mf\u001b[39m\u001b[39m\"\u001b[39m\u001b[39m./data/_vis-result/notes\u001b[39m\u001b[39m\"\u001b[39m\n\u001b[1;32m     23\u001b[0m \u001b[39m# pprint(sections)\u001b[39;00m\n",
      "\u001b[0;31mAssertionError\u001b[0m: Note describe:\n\tpos: (x, y) = (1, 97.25)\n\twidth: 5\n\tnote type: FLICK \n\thow judge: OFF"
     ]
    }
   ],
   "source": [
    "from section_divide import _get_section\n",
    "from arrange_score import get_notes_score\n",
    "from pprint import pprint\n",
    "import matplotlib.pyplot as plt\n",
    "import os\n",
    "import numpy as np\n",
    "from classes.types import HoldType, JudgeType, NotesType\n",
    "from classes.types.HoldType import HoldType\n",
    "\n",
    "notes_score = get_notes_score(\"./data/m155.json\")\n",
    "for note in notes_score:\n",
    "    if abs(note.y - 97.25) < 0.0001:\n",
    "        print(note)\n",
    "        break\n",
    "\n",
    "\n",
    "sections = _get_section(\"./data/m155.json\")\n",
    "# for note in sections[257]:\n",
    "#     print(note)\n",
    "\n",
    "assert (sections[257][0].type ) == NotesType.HOLD, f\"{sections[257][0]}\"\n",
    "dir_path = f\"./data/_vis-result/notes\"\n",
    "# pprint(sections)\n",
    "try:\n",
    "    os.mkdir(dir_path)\n",
    "except FileExistsError:\n",
    "    pass\n",
    "\n",
    "# max_duration = 0\n",
    "# for section in sections:\n",
    "#     max_duration = max(max_duration, section[-1].y - section[0].y)\n",
    "\n",
    "for i,section in enumerate(sections):\n",
    "    dir = f\"{dir_path}/length-{len(section)}\"\n",
    "    try:\n",
    "        os.mkdir(dir)\n",
    "    except FileExistsError:\n",
    "        pass\n",
    "    \n",
    "    ys = np.array([note.y for note in section])\n",
    "    min_y = ys.min()\n",
    "    \n",
    "    # normal\n",
    "    xs = np.array([note.x for note in section if note.type != JudgeType.HOLD])\n",
    "    ys = np.array([note.y for note in section if note.type != JudgeType.HOLD], dtype=\"float64\")\n",
    "    # ys -= min_y\n",
    "    plt.scatter(xs,ys, color=\"b\")\n",
    "    \n",
    "    hold_x = []\n",
    "    hold_y = []\n",
    "    for note in section:\n",
    "        if note.type != JudgeType.HOLD:\n",
    "            continue\n",
    "        \n",
    "        if note.hold_type == HoldType.END:\n",
    "            # plt.plot(hold_x, np.array(hold_y) - min_y, color=\"g\",  marker=\"o\")\n",
    "            plt.plot(hold_x, hold_y, color=\"g\",  marker=\"o\")\n",
    "            hold_x = []\n",
    "            hold_y = []\n",
    "            continue\n",
    "        \n",
    "        hold_x.append(note.x)\n",
    "        hold_y.append(note.y)\n",
    "    \n",
    "    # # hold\n",
    "    # xs = np.array([note.x for note in section if note.type == NotesType.HOLD])\n",
    "    # ys = np.array([note.y for note in section if note.type == NotesType.HOLD], dtype=\"float64\")\n",
    "    # ys -= min_y\n",
    "    # plt.plot(xs, ys, color=\"g\",  marker=\"o\")\n",
    "    \n",
    "    \n",
    "\n",
    "    plt.xlim([-0.3,12.3])\n",
    "    # plt.tick_params(labelbottom=False, labelleft=False, labelright=False, labeltop=False, bottom=False, left=False, right=False, top=False)\n",
    "    plt.savefig(f\"{dir}/{i}.png\")\n",
    "    plt.close()\n",
    "    if len(section) == 66:\n",
    "        for note in section:\n",
    "            print(note)\n",
    "    \n",
    "    # break\n"
   ]
  }
 ],
 "metadata": {
  "kernelspec": {
   "display_name": ".venv",
   "language": "python",
   "name": "python3"
  },
  "language_info": {
   "codemirror_mode": {
    "name": "ipython",
    "version": 3
   },
   "file_extension": ".py",
   "mimetype": "text/x-python",
   "name": "python",
   "nbconvert_exporter": "python",
   "pygments_lexer": "ipython3",
   "version": "3.10.6"
  },
  "orig_nbformat": 4
 },
 "nbformat": 4,
 "nbformat_minor": 2
}
