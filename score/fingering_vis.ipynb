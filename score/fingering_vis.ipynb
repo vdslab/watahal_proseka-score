{
 "cells": [
  {
   "cell_type": "markdown",
   "metadata": {},
   "source": [
    "# 運指の表示"
   ]
  },
  {
   "cell_type": "code",
   "execution_count": null,
   "metadata": {},
   "outputs": [],
   "source": [
    "from move_score import _get_fingering\n",
    "from pprint import pprint\n",
    "import matplotlib.pyplot as plt\n",
    "\n",
    "\n",
    "fingerings = _get_fingering(\"./data/m155.json\")\n",
    "\n",
    "# pprint(fingerings)\n",
    "\n",
    "for i,fingering in enumerate(fingerings):\n",
    "    # left\n",
    "    ids, notes = fingering[\"left\"].notes\n",
    "    xs = [note.x for note in notes]\n",
    "    ys = [note.y for note in notes]\n",
    "    plt.plot(xs, ys, color=\"b\", marker=\"o\")\n",
    "        \n",
    "    # right\n",
    "    ids, notes = fingering[\"right\"].notes\n",
    "    xs = [note.x for note in notes]\n",
    "    ys = [note.y for note in notes]\n",
    "    plt.plot(xs, ys, color=\"r\", marker=\"o\")\n",
    "    if i >= 3:\n",
    "        break"
   ]
  }
 ],
 "metadata": {
  "kernelspec": {
   "display_name": ".venv",
   "language": "python",
   "name": "python3"
  },
  "language_info": {
   "codemirror_mode": {
    "name": "ipython",
    "version": 3
   },
   "file_extension": ".py",
   "mimetype": "text/x-python",
   "name": "python",
   "nbconvert_exporter": "python",
   "pygments_lexer": "ipython3",
   "version": "3.10.6"
  },
  "orig_nbformat": 4
 },
 "nbformat": 4,
 "nbformat_minor": 2
}
