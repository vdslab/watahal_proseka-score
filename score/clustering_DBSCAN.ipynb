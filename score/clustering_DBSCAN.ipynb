{
 "cells": [
  {
   "cell_type": "code",
   "execution_count": 15,
   "metadata": {},
   "outputs": [],
   "source": [
    "# %pip install sklearn\n",
    "import numpy as np\n",
    "from sklearn.cluster import DBSCAN\n",
    "from sklearn.manifold import TSNE\n",
    "import os\n",
    "import json\n",
    "import glob\n",
    "\n",
    "save_dir = \"./data/_json/clustering_result\"\n",
    "os.makedirs(save_dir, exist_ok=True)\n",
    "\n",
    "notes_file_paths = glob.glob(\"./data/_json/feature_vector/*.json\")\n",
    "# print(notes_file_paths)\n",
    "for i,file_path in enumerate(notes_file_paths):\n",
    "    if i >= 10:\n",
    "        break\n",
    "    data = None\n",
    "    with open(file_path, newline=\"\") as f:\n",
    "        data = json.load(f)\n",
    "        data = np.array(data)\n",
    "\n",
    "    if data is None:\n",
    "        print(f\"{file_path} file is not found\")\n",
    "        continue\n",
    "\n",
    "    # クラスタリング\n",
    "    clustering_result = DBSCAN(eps=0.5, min_samples=3).fit_predict(data)\n",
    "    clustering_result += 1\n",
    "\n",
    "    # 次元削減\n",
    "    tsne = TSNE(n_components=2, random_state=0)\n",
    "    data_tsne = tsne.fit_transform(data)\n",
    "\n",
    "    # 各区間ごとのデータ\n",
    "    # for d in zip(data_tsne, clustering_result):\n",
    "    #     print(d)\n",
    "    clustering_data = [{\"x\": float(pos[0]), \"y\": float(pos[1]), \"label\": int(l)} for (pos, l) in zip(data_tsne, clustering_result)]\n",
    "\n",
    "    save_file_name_base = os.path.splitext(os.path.basename(file_path))[0]\n",
    "    save_file_name = f\"{save_file_name_base}_data.json\"\n",
    "\n",
    "    with open(f\"{save_dir}/{save_file_name}\", \"w\", newline=\"\") as f:\n",
    "        json.dump(clustering_data, f, ensure_ascii=False, indent=2)"
   ]
  }
 ],
 "metadata": {
  "kernelspec": {
   "display_name": ".venv",
   "language": "python",
   "name": "python3"
  },
  "language_info": {
   "codemirror_mode": {
    "name": "ipython",
    "version": 3
   },
   "file_extension": ".py",
   "mimetype": "text/x-python",
   "name": "python",
   "nbconvert_exporter": "python",
   "pygments_lexer": "ipython3",
   "version": "3.10.6"
  },
  "orig_nbformat": 4
 },
 "nbformat": 4,
 "nbformat_minor": 2
}
